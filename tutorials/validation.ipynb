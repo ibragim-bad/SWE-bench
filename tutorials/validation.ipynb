{
 "cells": [
  {
   "cell_type": "code",
   "execution_count": 1,
   "id": "d1e9e399",
   "metadata": {},
   "outputs": [],
   "source": [
    "%load_ext autoreload\n",
    "%autoreload 2"
   ]
  },
  {
   "cell_type": "code",
   "execution_count": 2,
   "id": "ec113f8e-56c1-44f7-9571-292c946bb6f1",
   "metadata": {},
   "outputs": [
    {
     "name": "stderr",
     "output_type": "stream",
     "text": [
      "/mnt/llm/home/ibragim-bad/code/conda/envs/swe-bench/lib/python3.9/site-packages/tqdm/auto.py:21: TqdmWarning: IProgress not found. Please update jupyter and ipywidgets. See https://ipywidgets.readthedocs.io/en/stable/user_install.html\n",
      "  from .autonotebook import tqdm as notebook_tqdm\n"
     ]
    }
   ],
   "source": [
    "import glob, json, os, sys\n",
    "\n",
    "sys.path.append('/mnt/llm/home/ibragim-bad/code/SWE-bench/swebench/metrics')\n",
    "sys.path.append('/mnt/llm/home/ibragim-bad/code/SWE-bench/') # TODO: Replace with path to `SWE-bench/swebench/metrics` folder\n",
    "from conversion import convert_log_to_ground_truth\n",
    "from getters import get_logs_gold\n",
    "from monitor import monitor_validation, monitor_logs_same_diff\n",
    "sys.path = sys.path[:-1]\n",
    "\n",
    "sys.path.append('/mnt/llm/home/ibragim-bad/code/SWE-bench/swebench/harness') # TODO: Replace with path to `SWE-bench/swebench/harness` folder\n",
    "from utils import has_attribute_or_import_error\n",
    "sys.path = sys.path[:-1]"
   ]
  },
  {
   "cell_type": "markdown",
   "id": "64e965b7-702e-49d4-bc15-2619dc185752",
   "metadata": {},
   "source": [
    "Declare repository; Fetch tasks, logs"
   ]
  },
  {
   "cell_type": "code",
   "execution_count": 3,
   "id": "9f1e9497-6e60-4027-8cee-790c8d0f1886",
   "metadata": {},
   "outputs": [],
   "source": [
    "repo = 'Farama-Foundation/Minigrid' # TODO: Replace with repository name\n",
    "log_dir = '/mnt/llm/home/ibragim-bad/code/SWE-bench/data/log_dir' # TODO: Replace with path to folder of execution logs"
   ]
  },
  {
   "cell_type": "markdown",
   "id": "bba9ae3b-726c-40ec-8ed2-4012fc4f70dc",
   "metadata": {},
   "source": [
    "Get map of version to setup commit"
   ]
  },
  {
   "cell_type": "code",
   "execution_count": 4,
   "id": "daa9d915-da85-4ca0-bba1-cd61ffeef3c0",
   "metadata": {},
   "outputs": [],
   "source": [
    "tasks = json.load(open('/mnt/llm/home/ibragim-bad/code/SWE-bench/data/testbed/versions/Minigrid-task-instances_versions.json')) # TODO: Replace with path to versioned candidate task instances\n",
    "tasks = sorted(tasks, key=lambda x: x['created_at'], reverse=True)\n",
    "version_to_setup_commit = {}\n",
    "for t in tasks:\n",
    "    if 'version' in t and t['version'] not in version_to_setup_commit:\n",
    "        version_to_setup_commit[t['version']] = t['base_commit']\n",
    "assert(\n",
    "    sorted(list([x or \"\" for x in version_to_setup_commit.keys()])) ==\n",
    "    sorted(list(set([t['version'] or \"\" for t in tasks if 'version' in t])))\n",
    ")\n",
    "tasks = {t['instance_id']: t for t in tasks}"
   ]
  },
  {
   "cell_type": "markdown",
   "id": "0994a4a9-fd3d-4554-90b7-24b10c499b8a",
   "metadata": {},
   "source": [
    "#### Monitor Validation"
   ]
  },
  {
   "cell_type": "code",
   "execution_count": 5,
   "id": "c5fcd54c-1a45-41f9-8a9c-64e9ff9df31a",
   "metadata": {},
   "outputs": [
    {
     "name": "stdout",
     "output_type": "stream",
     "text": [
      "Total Attempts: 19\n",
      "Failed: 18\n",
      "Usable: 1\n",
      "Corrupt Test: 0\n",
      "Corrupt Diff: 0\n",
      "Test Script Timeout: 0\n",
      "Success E2E: 1\n"
     ]
    }
   ],
   "source": [
    "failed_install, corrupt_test_patch, corrupt_patch, timeout, success = monitor_validation(log_dir)"
   ]
  },
  {
   "cell_type": "code",
   "execution_count": 16,
   "id": "ecf576b3-22ed-4d8c-a40d-340ae8c56db8",
   "metadata": {},
   "outputs": [
    {
     "name": "stdout",
     "output_type": "stream",
     "text": [
      "Logs same: 0\n",
      "Logs diff: 1\n"
     ]
    }
   ],
   "source": [
    "logs_same, logs_diff = monitor_logs_same_diff(log_dir)\n",
    "print(f\"Logs same: {len(logs_same)}\")\n",
    "print(f\"Logs diff: {len(logs_diff)}\")"
   ]
  },
  {
   "cell_type": "code",
   "execution_count": null,
   "id": "4a814f8b",
   "metadata": {},
   "outputs": [],
   "source": []
  },
  {
   "cell_type": "markdown",
   "id": "b81a74a5-c56e-4724-acf5-378b601a2d89",
   "metadata": {},
   "source": [
    "#### Get [FP]2[FP] Tests"
   ]
  },
  {
   "cell_type": "code",
   "execution_count": 17,
   "id": "fb935466-43e8-45a7-8f46-15925d82312b",
   "metadata": {},
   "outputs": [],
   "source": [
    "inst_id_to_gt = {}\n",
    "for d in logs_diff:\n",
    "    status_gt = convert_log_to_ground_truth(d[0])\n",
    "    inst_id_to_gt[d[0]] = status_gt"
   ]
  },
  {
   "cell_type": "markdown",
   "id": "ccaa7863-f144-49da-ae92-6430841bd3ea",
   "metadata": {},
   "source": [
    "#### Create Task Instances `.json` file"
   ]
  },
  {
   "cell_type": "code",
   "execution_count": 25,
   "id": "c79f7421",
   "metadata": {},
   "outputs": [
    {
     "data": {
      "text/plain": [
       "'Farama-Foundation__Minigrid-304.log'"
      ]
     },
     "execution_count": 25,
     "metadata": {},
     "output_type": "execute_result"
    }
   ],
   "source": [
    "f'{t[\"instance_id\"]}.log'"
   ]
  },
  {
   "cell_type": "code",
   "execution_count": 24,
   "id": "4c825e61",
   "metadata": {},
   "outputs": [
    {
     "data": {
      "text/plain": [
       "'Minigrid'"
      ]
     },
     "execution_count": 24,
     "metadata": {},
     "output_type": "execute_result"
    }
   ],
   "source": [
    "t[\"repo\"].split(\"/\")[-1]"
   ]
  },
  {
   "cell_type": "code",
   "execution_count": 28,
   "id": "75aaa278",
   "metadata": {},
   "outputs": [
    {
     "data": {
      "text/plain": [
       "'/mnt/llm/home/ibragim-bad/code/SWE-bench/data/log_dir/Farama-Foundation__Minigrid-304.log'"
      ]
     },
     "execution_count": 28,
     "metadata": {},
     "output_type": "execute_result"
    }
   ],
   "source": [
    "os.path.join(log_dir, f'{t[\"instance_id\"]}.log')"
   ]
  },
  {
   "cell_type": "code",
   "execution_count": 41,
   "id": "80e06e8f",
   "metadata": {},
   "outputs": [
    {
     "data": {
      "text/plain": [
       "'Farama-Foundation__Minigrid-381'"
      ]
     },
     "execution_count": 41,
     "metadata": {},
     "output_type": "execute_result"
    }
   ],
   "source": [
    "task['instance_id']"
   ]
  },
  {
   "cell_type": "code",
   "execution_count": 39,
   "id": "6d7cff7d",
   "metadata": {},
   "outputs": [
    {
     "data": {
      "text/plain": [
       "{'repo': 'Farama-Foundation/Minigrid',\n",
       " 'pull_number': 304,\n",
       " 'instance_id': 'Farama-Foundation__Minigrid-304',\n",
       " 'issue_numbers': ['303'],\n",
       " 'base_commit': 'b7d447b34fc05565b05a28304e5b981a0a714b05',\n",
       " 'patch': 'diff --git a/minigrid/core/mission.py b/minigrid/core/mission.py\\n--- a/minigrid/core/mission.py\\n+++ b/minigrid/core/mission.py\\n@@ -172,14 +172,18 @@ def __eq__(self, other) -> bool:\\n             # Check that place holder lists are the same\\n             if self.ordered_placeholders is not None:\\n                 # Check length\\n-                if (len(self.order_placeholder) == len(other.order_placeholder)) and (\\n+                if (\\n+                    len(self.ordered_placeholders) == len(other.ordered_placeholders)\\n+                ) and (\\n                     all(\\n                         set(i) == set(j)\\n-                        for i, j in zip(self.order_placeholder, other.order_placeholder)\\n+                        for i, j in zip(\\n+                            self.ordered_placeholders, other.ordered_placeholders\\n+                        )\\n                     )\\n                 ):\\n                     # Check mission string is the same with dummy space placeholders\\n-                    test_placeholders = [\"\"] * len(self.order_placeholder)\\n+                    test_placeholders = [\"\"] * len(self.ordered_placeholders)\\n                     mission = self.mission_func(*test_placeholders)\\n                     other_mission = other.mission_func(*test_placeholders)\\n                     return mission == other_mission\\n',\n",
       " 'test_patch': 'diff --git a/tests/test_envs.py b/tests/test_envs.py\\n--- a/tests/test_envs.py\\n+++ b/tests/test_envs.py\\n@@ -303,3 +303,19 @@ def test_mission_space():\\n \\n     assert mission_space.contains(\"get the green key and the green key.\")\\n     assert mission_space.contains(\"go fetch the red ball and the green key.\")\\n+\\n+# not reasonable to test for all environments, test for a few of them.\\n+@pytest.mark.parametrize(\"env_id\", [\"MiniGrid-Empty-8x8-v0\", \"MiniGrid-DoorKey-16x16-v0\",\"MiniGrid-ObstructedMaze-1Dl-v0\"])\\n+def test_env_sync_vectorization(env_id):\\n+    \\n+    def env_maker(env_id, **kwargs):\\n+        def env_func():\\n+            env = gym.make(env_id, **kwargs)\\n+            return env\\n+        return env_func\\n+\\n+    num_envs = 4\\n+    env = gym.vector.SyncVectorEnv([env_maker(env_id) for _ in range(num_envs)])\\n+    env.reset()\\n+    env.step(env.action_space.sample())\\n+    env.close()\\n\\\\ No newline at end of file\\n',\n",
       " 'problem_statement': '[Bug Report] Vectorizing minigrid environments with a MissionSpace via gymnasium.vector.SyncVectorEnv causes an attribute error\\nIf you are submitting a bug report, please fill in the following details and use the tag [bug].\\r\\n\\r\\n**Describe the bug**\\r\\nVectorizing minigrid environments with a MissionSpace via gymnasium.vector.SyncVectorEnv causes an attribute error.\\r\\n\\r\\n**Code example**\\r\\n\\r\\n```python\\r\\nimport gymnasium as gym \\r\\nimport minigrid\\r\\n\\r\\ndef env_maker(env_id, **kwargs):\\r\\n    def env_func():\\r\\n        env = gym.make(env_id, **kwargs)\\r\\n        return env\\r\\n    return env_func\\r\\n\\r\\nnum_envs = 4\\r\\nenv_id = \"MiniGrid-ObstructedMaze-2Q\"\\r\\nkwargs = dict(num_rooms_visited=2)\\r\\nenvs = gym.vector.SyncVectorEnv([env_maker(env_id, **kwargs) for _ in range(num_envs)])\\r\\n```\\r\\n\\r\\n```\\r\\n---------------------------------------------------------------------------\\r\\nAttributeError                            Traceback (most recent call last)\\r\\nCell In[1], line 13\\r\\n     11 env_id = \"MiniGrid-ObstructedMaze-2Q\"\\r\\n     12 kwargs = dict(num_rooms_visited=2)\\r\\n---> 13 envs = gym.vector.SyncVectorEnv([env_maker(env_id, **kwargs) for _ in range(num_envs)])\\r\\n\\r\\nFile ~/miniforge3/envs/decision_transformer_interpretability/lib/python3.9/site-packages/gymnasium/vector/sync_vector_env.py:66, in SyncVectorEnv.__init__(self, env_fns, observation_space, action_space, copy)\\r\\n     59     action_space = action_space or self.envs[0].action_space\\r\\n     60 super().__init__(\\r\\n     61     num_envs=len(self.envs),\\r\\n     62     observation_space=observation_space,\\r\\n     63     action_space=action_space,\\r\\n     64 )\\r\\n---> 66 self._check_spaces()\\r\\n     67 self.observations = create_empty_array(\\r\\n     68     self.single_observation_space, n=self.num_envs, fn=np.zeros\\r\\n     69 )\\r\\n     70 self._rewards = np.zeros((self.num_envs,), dtype=np.float64)\\r\\n\\r\\nFile ~/miniforge3/envs/decision_transformer_interpretability/lib/python3.9/site-packages/gymnasium/vector/sync_vector_env.py:223, in SyncVectorEnv._check_spaces(self)\\r\\n    221 def _check_spaces(self) -> bool:\\r\\n    222     for env in self.envs:\\r\\n--> 223         if not (env.observation_space == self.single_observation_space):\\r\\n    224             raise RuntimeError(\\r\\n    225                 \"Some environments have an observation space different from \"\\r\\n    226                 f\"`{self.single_observation_space}`. In order to batch observations, \"\\r\\n    227                 \"the observation spaces from all environments must be equal.\"\\r\\n    228             )\\r\\n    230         if not (env.action_space == self.single_action_space):\\r\\n\\r\\nFile ~/miniforge3/envs/decision_transformer_interpretability/lib/python3.9/site-packages/gymnasium/spaces/dict.py:218, in Dict.__eq__(self, other)\\r\\n    213 def __eq__(self, other: Any) -> bool:\\r\\n    214     \"\"\"Check whether `other` is equivalent to this instance.\"\"\"\\r\\n    215     return (\\r\\n    216         isinstance(other, Dict)\\r\\n    217         # Comparison of `OrderedDict`s is order-sensitive\\r\\n--> 218         and self.spaces == other.spaces  # OrderedDict.__eq__\\r\\n    219     )\\r\\n\\r\\nFile ~/GithubRepositories/Minigrid/minigrid/core/mission.py:175, in MissionSpace.__eq__(self, other)\\r\\n    170 if isinstance(other, MissionSpace):\\r\\n    171 \\r\\n    172     # Check that place holder lists are the same\\r\\n    173     if self.ordered_placeholders is not None:\\r\\n    174         # Check length\\r\\n--> 175         if (len(self.order_placeholder) == len(other.order_placeholder)) and (\\r\\n    176             all(\\r\\n    177                 set(i) == set(j)\\r\\n    178                 for i, j in zip(self.order_placeholder, other.order_placeholder)\\r\\n    179             )\\r\\n    180         ):\\r\\n    181             # Check mission string is the same with dummy space placeholders\\r\\n    182             test_placeholders = [\"\"] * len(self.order_placeholder)\\r\\n    183             mission = self.mission_func(*test_placeholders)\\r\\n\\r\\nAttributeError: \\'MissionSpace\\' object has no attribute \\'order_placeholder\\'\\r\\n```\\r\\n\\r\\n\\r\\n**System Info**\\r\\nDescribe the characteristic of your environment:\\r\\n * Minigrid installed with pip. \\r\\n * MacOS 13.0.1\\r\\n * Python 3.9.15\\r\\n\\r\\n**Additional context**\\r\\nI\\'ve already got a fix and will submit a PR associated with this issue. \\r\\n### Checklist\\r\\n\\r\\n- [ x] I have checked that there is no similar [issue](https://github.com/Farama-Foundation/MiniGrid/issues) in the repo (**required**)\\n',\n",
       " 'hints_text': '',\n",
       " 'created_at': '2023-02-09T10:25:49Z',\n",
       " 'version': '2.1'}"
      ]
     },
     "execution_count": 39,
     "metadata": {},
     "output_type": "execute_result"
    }
   ],
   "source": [
    "t"
   ]
  },
  {
   "cell_type": "code",
   "execution_count": 42,
   "id": "44a4dc43-d158-4b3e-b7cd-728954bce188",
   "metadata": {},
   "outputs": [
    {
     "name": "stdout",
     "output_type": "stream",
     "text": [
      "Final number of task instances:  1\n"
     ]
    }
   ],
   "source": [
    "tasks_final = []\n",
    "get_id_from_log = lambda x: x.split('/')[-1].split('.')[0]\n",
    "for k, v in inst_id_to_gt.items():\n",
    "    if len(v['FAIL_TO_PASS']) == 0:\n",
    "        continue\n",
    "    task = tasks[get_id_from_log(k)]\n",
    "    task['FAIL_TO_PASS'] = v['FAIL_TO_PASS']\n",
    "    task['PASS_TO_PASS'] = v['PASS_TO_PASS']\n",
    "    task['environment_setup_commit'] = version_to_setup_commit[task['version']]\n",
    "\n",
    "    # Do not consider tasks where the log before the patch has an attribute/import error\n",
    "    log_path = os.path.join(log_dir, f'{task[\"instance_id\"]}.log')\n",
    "    log_before, log_after = get_logs_gold(log_path)\n",
    "    if has_attribute_or_import_error(log_before):\n",
    "        continue\n",
    "\n",
    "    tasks_final.append(task)\n",
    "print(f\"Final number of task instances: \", len(tasks_final))\n",
    "\n",
    "SAVE_PATH = \"/mnt/llm/home/ibragim-bad/code/SWE-bench/data/minigrid_results.json\" # TODO: Replace this with a path to a .json file to save the task instances\n",
    "with open(SAVE_PATH, 'w') as f:\n",
    "    json.dump(tasks_final, fp=f)"
   ]
  },
  {
   "cell_type": "code",
   "execution_count": null,
   "id": "9dd87138",
   "metadata": {},
   "outputs": [],
   "source": []
  }
 ],
 "metadata": {
  "kernelspec": {
   "display_name": "Python 3 (ipykernel)",
   "language": "python",
   "name": "python3"
  },
  "language_info": {
   "codemirror_mode": {
    "name": "ipython",
    "version": 3
   },
   "file_extension": ".py",
   "mimetype": "text/x-python",
   "name": "python",
   "nbconvert_exporter": "python",
   "pygments_lexer": "ipython3",
   "version": "3.9.19"
  }
 },
 "nbformat": 4,
 "nbformat_minor": 5
}

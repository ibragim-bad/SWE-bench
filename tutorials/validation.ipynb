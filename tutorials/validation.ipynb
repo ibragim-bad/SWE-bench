{
 "cells": [
  {
   "cell_type": "code",
   "execution_count": 1,
   "id": "d1e9e399",
   "metadata": {},
   "outputs": [],
   "source": [
    "# %load_ext autoreload\n",
    "# %autoreload 2"
   ]
  },
  {
   "cell_type": "code",
   "execution_count": 2,
   "id": "ec113f8e-56c1-44f7-9571-292c946bb6f1",
   "metadata": {},
   "outputs": [
    {
     "name": "stderr",
     "output_type": "stream",
     "text": [
      "/mnt/llm/home/ibragim-bad/code/conda/envs/swe-bench/lib/python3.9/site-packages/tqdm/auto.py:21: TqdmWarning: IProgress not found. Please update jupyter and ipywidgets. See https://ipywidgets.readthedocs.io/en/stable/user_install.html\n",
      "  from .autonotebook import tqdm as notebook_tqdm\n"
     ]
    }
   ],
   "source": [
    "import glob, json, os, sys\n",
    "\n",
    "sys.path.append('/mnt/llm/home/ibragim-bad/code/SWE-bench/swebench/metrics')\n",
    "sys.path.append('/mnt/llm/home/ibragim-bad/code/SWE-bench/') # TODO: Replace with path to `SWE-bench/swebench/metrics` folder\n",
    "from conversion import convert_log_to_ground_truth\n",
    "from getters import get_logs_gold\n",
    "from monitor import monitor_validation, monitor_logs_same_diff\n",
    "sys.path = sys.path[:-1]\n",
    "\n",
    "sys.path.append('/mnt/llm/home/ibragim-bad/code/SWE-bench/swebench/harness') # TODO: Replace with path to `SWE-bench/swebench/harness` folder\n",
    "from utils import has_attribute_or_import_error\n",
    "sys.path = sys.path[:-1]"
   ]
  },
  {
   "cell_type": "markdown",
   "id": "64e965b7-702e-49d4-bc15-2619dc185752",
   "metadata": {},
   "source": [
    "Declare repository; Fetch tasks, logs"
   ]
  },
  {
   "cell_type": "code",
   "execution_count": 3,
   "id": "9f1e9497-6e60-4027-8cee-790c8d0f1886",
   "metadata": {},
   "outputs": [],
   "source": [
    "repo = 'Farama-Foundation/Minigrid' # TODO: Replace with repository name\n",
    "log_dir = '/mnt/llm/home/ibragim-bad/code/SWE-bench/data/log_dir' # TODO: Replace with path to folder of execution logs"
   ]
  },
  {
   "cell_type": "markdown",
   "id": "bba9ae3b-726c-40ec-8ed2-4012fc4f70dc",
   "metadata": {},
   "source": [
    "Get map of version to setup commit"
   ]
  },
  {
   "cell_type": "code",
   "execution_count": 28,
   "id": "daa9d915-da85-4ca0-bba1-cd61ffeef3c0",
   "metadata": {},
   "outputs": [],
   "source": [
    "tasks = json.load(open('/mnt/llm/home/ibragim-bad/code/SWE-bench/data/testbed/versions/Minigrid-task-instances_versions.json')) # TODO: Replace with path to versioned candidate task instances\n",
    "tasks = sorted(tasks, key=lambda x: x['created_at'], reverse=True)\n",
    "version_to_setup_commit = {}\n",
    "for t in tasks:\n",
    "    if 'version' in t and t['version'] not in version_to_setup_commit:\n",
    "        version_to_setup_commit[t['version']] = t['base_commit']\n",
    "assert(\n",
    "    sorted(list([x or \"\" for x in version_to_setup_commit.keys()])) ==\n",
    "    sorted(list(set([t['version'] or \"\" for t in tasks if 'version' in t])))\n",
    ")\n",
    "tasks = {t['instance_id']: t for t in tasks}"
   ]
  },
  {
   "cell_type": "markdown",
   "id": "0994a4a9-fd3d-4554-90b7-24b10c499b8a",
   "metadata": {},
   "source": [
    "#### Monitor Validation"
   ]
  },
  {
   "cell_type": "code",
   "execution_count": 29,
   "id": "c5fcd54c-1a45-41f9-8a9c-64e9ff9df31a",
   "metadata": {},
   "outputs": [
    {
     "name": "stdout",
     "output_type": "stream",
     "text": [
      "Total Attempts: 65\n",
      "Failed: 56\n",
      "Usable: 9\n",
      "Corrupt Test: 1\n",
      "Corrupt Diff: 0\n",
      "Test Script Timeout: 0\n",
      "Success E2E: 8\n"
     ]
    }
   ],
   "source": [
    "failed_install, corrupt_test_patch, corrupt_patch, timeout, success = monitor_validation(log_dir)"
   ]
  },
  {
   "cell_type": "code",
   "execution_count": 30,
   "id": "ecf576b3-22ed-4d8c-a40d-340ae8c56db8",
   "metadata": {},
   "outputs": [
    {
     "name": "stdout",
     "output_type": "stream",
     "text": [
      "Logs same: 4\n",
      "Logs diff: 4\n"
     ]
    }
   ],
   "source": [
    "logs_same, logs_diff = monitor_logs_same_diff(log_dir)\n",
    "print(f\"Logs same: {len(logs_same)}\")\n",
    "print(f\"Logs diff: {len(logs_diff)}\")"
   ]
  },
  {
   "cell_type": "code",
   "execution_count": null,
   "id": "4a814f8b",
   "metadata": {},
   "outputs": [],
   "source": []
  },
  {
   "cell_type": "markdown",
   "id": "b81a74a5-c56e-4724-acf5-378b601a2d89",
   "metadata": {},
   "source": [
    "#### Get [FP]2[FP] Tests"
   ]
  },
  {
   "cell_type": "code",
   "execution_count": 31,
   "id": "fb935466-43e8-45a7-8f46-15925d82312b",
   "metadata": {},
   "outputs": [],
   "source": [
    "inst_id_to_gt = {}\n",
    "for d in logs_diff:\n",
    "    status_gt = convert_log_to_ground_truth(d[0])\n",
    "    inst_id_to_gt[d[0]] = status_gt"
   ]
  },
  {
   "cell_type": "code",
   "execution_count": null,
   "id": "d4651faa",
   "metadata": {},
   "outputs": [],
   "source": []
  },
  {
   "cell_type": "markdown",
   "id": "ccaa7863-f144-49da-ae92-6430841bd3ea",
   "metadata": {},
   "source": [
    "#### Create Task Instances `.json` file"
   ]
  },
  {
   "cell_type": "code",
   "execution_count": 32,
   "id": "44a4dc43-d158-4b3e-b7cd-728954bce188",
   "metadata": {},
   "outputs": [
    {
     "name": "stdout",
     "output_type": "stream",
     "text": [
      "SheffieldML__GPy-1070\n",
      "Final number of task instances:  3\n"
     ]
    }
   ],
   "source": [
    "tasks_final = []\n",
    "get_id_from_log = lambda x: x.split('/')[-1].split('.')[0]\n",
    "for k, v in inst_id_to_gt.items():\n",
    "    if len(v['FAIL_TO_PASS']) == 0:\n",
    "        continue\n",
    "    if get_id_from_log(k) not in tasks:\n",
    "        print(get_id_from_log(k))\n",
    "        continue\n",
    "    task = tasks[get_id_from_log(k)]\n",
    "    task['FAIL_TO_PASS'] = v['FAIL_TO_PASS']\n",
    "    task['PASS_TO_PASS'] = v['PASS_TO_PASS']\n",
    "    task['environment_setup_commit'] = version_to_setup_commit[task['version']]\n",
    "\n",
    "    # Do not consider tasks where the log before the patch has an attribute/import error\n",
    "    log_path = os.path.join(log_dir, f'{task[\"instance_id\"]}.log')\n",
    "    log_before, log_after = get_logs_gold(log_path)\n",
    "    if has_attribute_or_import_error(log_before):\n",
    "        continue\n",
    "\n",
    "    tasks_final.append(task)\n",
    "print(f\"Final number of task instances: \", len(tasks_final))\n",
    "\n",
    "SAVE_PATH = \"/mnt/llm/home/ibragim-bad/code/SWE-bench/data/minigrid_results.json\" # TODO: Replace this with a path to a .json file to save the task instances\n",
    "with open(SAVE_PATH, 'w') as f:\n",
    "    json.dump(tasks_final, fp=f)"
   ]
  },
  {
   "cell_type": "code",
   "execution_count": 33,
   "id": "9dd87138",
   "metadata": {},
   "outputs": [
    {
     "data": {
      "text/html": [
       "<div>\n",
       "<style scoped>\n",
       "    .dataframe tbody tr th:only-of-type {\n",
       "        vertical-align: middle;\n",
       "    }\n",
       "\n",
       "    .dataframe tbody tr th {\n",
       "        vertical-align: top;\n",
       "    }\n",
       "\n",
       "    .dataframe thead th {\n",
       "        text-align: right;\n",
       "    }\n",
       "</style>\n",
       "<table border=\"1\" class=\"dataframe\">\n",
       "  <thead>\n",
       "    <tr style=\"text-align: right;\">\n",
       "      <th></th>\n",
       "      <th>repo</th>\n",
       "      <th>pull_number</th>\n",
       "      <th>instance_id</th>\n",
       "      <th>issue_numbers</th>\n",
       "      <th>base_commit</th>\n",
       "      <th>patch</th>\n",
       "      <th>test_patch</th>\n",
       "      <th>problem_statement</th>\n",
       "      <th>hints_text</th>\n",
       "      <th>created_at</th>\n",
       "      <th>version</th>\n",
       "      <th>FAIL_TO_PASS</th>\n",
       "      <th>PASS_TO_PASS</th>\n",
       "      <th>environment_setup_commit</th>\n",
       "    </tr>\n",
       "  </thead>\n",
       "  <tbody>\n",
       "    <tr>\n",
       "      <th>0</th>\n",
       "      <td>Farama-Foundation/Minigrid</td>\n",
       "      <td>304</td>\n",
       "      <td>Farama-Foundation__Minigrid-304</td>\n",
       "      <td>[303]</td>\n",
       "      <td>b7d447b34fc05565b05a28304e5b981a0a714b05</td>\n",
       "      <td>diff --git a/minigrid/core/mission.py b/minigr...</td>\n",
       "      <td>diff --git a/tests/test_envs.py b/tests/test_e...</td>\n",
       "      <td>[Bug Report] Vectorizing minigrid environments...</td>\n",
       "      <td></td>\n",
       "      <td>2023-02-09T10:25:49Z</td>\n",
       "      <td>2.1</td>\n",
       "      <td>[tests/test_envs.py::test_env_sync_vectorizati...</td>\n",
       "      <td>[tests/test_envs.py::test_env[MiniGrid-Blocked...</td>\n",
       "      <td>488b25db0df78dee21447314429892c82a069b5e</td>\n",
       "    </tr>\n",
       "    <tr>\n",
       "      <th>1</th>\n",
       "      <td>Farama-Foundation/Minigrid</td>\n",
       "      <td>331</td>\n",
       "      <td>Farama-Foundation__Minigrid-331</td>\n",
       "      <td>[327]</td>\n",
       "      <td>488b25db0df78dee21447314429892c82a069b5e</td>\n",
       "      <td>diff --git a/minigrid/wrappers.py b/minigrid/w...</td>\n",
       "      <td>diff --git a/tests/test_wrappers.py b/tests/te...</td>\n",
       "      <td>[Question] Is SymbolicObsWrapper wrong in Dist...</td>\n",
       "      <td></td>\n",
       "      <td>2023-03-13T16:21:50Z</td>\n",
       "      <td>2.1</td>\n",
       "      <td>[tests/test_wrappers.py::test_symbolic_obs_wra...</td>\n",
       "      <td>[tests/test_wrappers.py::test_reseed_wrapper[M...</td>\n",
       "      <td>488b25db0df78dee21447314429892c82a069b5e</td>\n",
       "    </tr>\n",
       "    <tr>\n",
       "      <th>2</th>\n",
       "      <td>Farama-Foundation/Minigrid</td>\n",
       "      <td>381</td>\n",
       "      <td>Farama-Foundation__Minigrid-381</td>\n",
       "      <td>[308]</td>\n",
       "      <td>546c040a9424f339b7ba69e911e4126cee216e64</td>\n",
       "      <td>diff --git a/minigrid/envs/babyai/putnext.py b...</td>\n",
       "      <td>diff --git a/tests/test_baby_ai_bot.py b/tests...</td>\n",
       "      <td>[Question] Any plan to support BabyAI bot ?\\n#...</td>\n",
       "      <td>I haven't done much with BabyAI but I would ad...</td>\n",
       "      <td>2023-07-19T09:19:35Z</td>\n",
       "      <td>2.3</td>\n",
       "      <td>[tests/test_baby_ai_bot.py::test_bot[BabyAI-Go...</td>\n",
       "      <td>[]</td>\n",
       "      <td>546c040a9424f339b7ba69e911e4126cee216e64</td>\n",
       "    </tr>\n",
       "  </tbody>\n",
       "</table>\n",
       "</div>"
      ],
      "text/plain": [
       "                         repo  pull_number                      instance_id  \\\n",
       "0  Farama-Foundation/Minigrid          304  Farama-Foundation__Minigrid-304   \n",
       "1  Farama-Foundation/Minigrid          331  Farama-Foundation__Minigrid-331   \n",
       "2  Farama-Foundation/Minigrid          381  Farama-Foundation__Minigrid-381   \n",
       "\n",
       "  issue_numbers                               base_commit  \\\n",
       "0         [303]  b7d447b34fc05565b05a28304e5b981a0a714b05   \n",
       "1         [327]  488b25db0df78dee21447314429892c82a069b5e   \n",
       "2         [308]  546c040a9424f339b7ba69e911e4126cee216e64   \n",
       "\n",
       "                                               patch  \\\n",
       "0  diff --git a/minigrid/core/mission.py b/minigr...   \n",
       "1  diff --git a/minigrid/wrappers.py b/minigrid/w...   \n",
       "2  diff --git a/minigrid/envs/babyai/putnext.py b...   \n",
       "\n",
       "                                          test_patch  \\\n",
       "0  diff --git a/tests/test_envs.py b/tests/test_e...   \n",
       "1  diff --git a/tests/test_wrappers.py b/tests/te...   \n",
       "2  diff --git a/tests/test_baby_ai_bot.py b/tests...   \n",
       "\n",
       "                                   problem_statement  \\\n",
       "0  [Bug Report] Vectorizing minigrid environments...   \n",
       "1  [Question] Is SymbolicObsWrapper wrong in Dist...   \n",
       "2  [Question] Any plan to support BabyAI bot ?\\n#...   \n",
       "\n",
       "                                          hints_text            created_at  \\\n",
       "0                                                     2023-02-09T10:25:49Z   \n",
       "1                                                     2023-03-13T16:21:50Z   \n",
       "2  I haven't done much with BabyAI but I would ad...  2023-07-19T09:19:35Z   \n",
       "\n",
       "  version                                       FAIL_TO_PASS  \\\n",
       "0     2.1  [tests/test_envs.py::test_env_sync_vectorizati...   \n",
       "1     2.1  [tests/test_wrappers.py::test_symbolic_obs_wra...   \n",
       "2     2.3  [tests/test_baby_ai_bot.py::test_bot[BabyAI-Go...   \n",
       "\n",
       "                                        PASS_TO_PASS  \\\n",
       "0  [tests/test_envs.py::test_env[MiniGrid-Blocked...   \n",
       "1  [tests/test_wrappers.py::test_reseed_wrapper[M...   \n",
       "2                                                 []   \n",
       "\n",
       "                   environment_setup_commit  \n",
       "0  488b25db0df78dee21447314429892c82a069b5e  \n",
       "1  488b25db0df78dee21447314429892c82a069b5e  \n",
       "2  546c040a9424f339b7ba69e911e4126cee216e64  "
      ]
     },
     "execution_count": 33,
     "metadata": {},
     "output_type": "execute_result"
    }
   ],
   "source": [
    "import pandas as pd \n",
    "\n",
    "pd.DataFrame(tasks_final)"
   ]
  },
  {
   "cell_type": "code",
   "execution_count": 27,
   "id": "9ec95079",
   "metadata": {},
   "outputs": [],
   "source": [
    "from copy import deepcopy"
   ]
  }
 ],
 "metadata": {
  "kernelspec": {
   "display_name": "Python 3 (ipykernel)",
   "language": "python",
   "name": "python3"
  },
  "language_info": {
   "codemirror_mode": {
    "name": "ipython",
    "version": 3
   },
   "file_extension": ".py",
   "mimetype": "text/x-python",
   "name": "python",
   "nbconvert_exporter": "python",
   "pygments_lexer": "ipython3",
   "version": "3.9.19"
  }
 },
 "nbformat": 4,
 "nbformat_minor": 5
}
